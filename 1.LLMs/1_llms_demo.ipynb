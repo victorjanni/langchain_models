{
 "cells": [
  {
   "cell_type": "code",
   "execution_count": 3,
   "id": "ccaa03f1",
   "metadata": {},
   "outputs": [
    {
     "data": {
      "text/plain": [
       "True"
      ]
     },
     "execution_count": 3,
     "metadata": {},
     "output_type": "execute_result"
    }
   ],
   "source": [
    "from langchain_openai import OpenAI\n",
    "from dotenv import load_dotenv\n",
    "\n",
    "load_dotenv()"
   ]
  },
  {
   "cell_type": "code",
   "execution_count": 4,
   "id": "953112dd",
   "metadata": {},
   "outputs": [],
   "source": [
    "llm = OpenAI(model='gpt-3.5-turbo-instruct')\n",
    "result = llm.invoke(\"what is gen Ai ?\")"
   ]
  },
  {
   "cell_type": "code",
   "execution_count": 5,
   "id": "94d8337a",
   "metadata": {},
   "outputs": [
    {
     "name": "stdout",
     "output_type": "stream",
     "text": [
      "\n",
      "\n",
      "Gen Ai is a term used to describe artificial intelligence (AI) that is designed to exhibit human-like intelligence, reasoning, and decision-making abilities. It is a type of AI that goes beyond traditional problem-solving and data analysis and aims to replicate human thought processes and emotions. This type of AI is often referred to as \"general\" or \"strong\" AI, as it can potentially perform a wide range of tasks and adapt to new situations without specific programming or training. However, the development of true gen Ai is still in its early stages and remains a subject of debate and speculation.\n"
     ]
    }
   ],
   "source": [
    "print(result)"
   ]
  }
 ],
 "metadata": {
  "kernelspec": {
   "display_name": "Python 3",
   "language": "python",
   "name": "python3"
  },
  "language_info": {
   "codemirror_mode": {
    "name": "ipython",
    "version": 3
   },
   "file_extension": ".py",
   "mimetype": "text/x-python",
   "name": "python",
   "nbconvert_exporter": "python",
   "pygments_lexer": "ipython3",
   "version": "3.12.0"
  }
 },
 "nbformat": 4,
 "nbformat_minor": 5
}
