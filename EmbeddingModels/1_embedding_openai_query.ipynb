{
 "cells": [
  {
   "cell_type": "code",
   "execution_count": 1,
   "id": "36c3a292",
   "metadata": {},
   "outputs": [
    {
     "name": "stdout",
     "output_type": "stream",
     "text": [
      "[-0.1625458151102066, 0.2759620249271393, -0.007729582954198122, 0.4486996531486511, -0.00655360845848918, 0.11838144063949585, -0.027406740933656693, 0.06673655658960342, -0.09126869589090347, 0.0063535296358168125, -0.02048155665397644, 0.14882612228393555, -0.017165962606668472, -0.14529819786548615, -0.1884172558784485, -0.20396625995635986, -0.1818840652704239, 0.11916542798280716, 0.0742170661687851, -0.2832792103290558, 0.029252368956804276, -0.020595887675881386, 0.07258376479148865, -0.00048131251242011786, -0.32012641429901123, 0.41080713272094727, 0.32038775086402893, -0.0483129546046257, -0.10649102926254272, 0.00436498923227191, 0.054388824850320816, 0.1311211735010147]\n"
     ]
    }
   ],
   "source": [
    "from langchain_openai import OpenAIEmbeddings\n",
    "from dotenv import load_dotenv\n",
    "\n",
    "load_dotenv()\n",
    "\n",
    "embedding = OpenAIEmbeddings(model='text-embedding-3-large', dimensions=32)\n",
    "\n",
    "result = embedding.embed_query(\"Delhi is the capital of India\")\n",
    "\n",
    "print(str(result))"
   ]
  }
 ],
 "metadata": {
  "kernelspec": {
   "display_name": "Python 3",
   "language": "python",
   "name": "python3"
  },
  "language_info": {
   "codemirror_mode": {
    "name": "ipython",
    "version": 3
   },
   "file_extension": ".py",
   "mimetype": "text/x-python",
   "name": "python",
   "nbconvert_exporter": "python",
   "pygments_lexer": "ipython3",
   "version": "3.12.0"
  }
 },
 "nbformat": 4,
 "nbformat_minor": 5
}
