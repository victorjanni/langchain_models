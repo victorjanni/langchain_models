{
 "cells": [
  {
   "cell_type": "code",
   "execution_count": 2,
   "id": "c2366800",
   "metadata": {},
   "outputs": [
    {
     "data": {
      "text/plain": [
       "True"
      ]
     },
     "execution_count": 2,
     "metadata": {},
     "output_type": "execute_result"
    }
   ],
   "source": [
    "from langchain_openai import ChatOpenAI\n",
    "from dotenv import load_dotenv\n",
    "\n",
    "load_dotenv()"
   ]
  },
  {
   "cell_type": "code",
   "execution_count": 14,
   "id": "d72b785e",
   "metadata": {},
   "outputs": [],
   "source": [
    "model =  ChatOpenAI(model='gpt-4',temperature=0,max_completion_tokens=300)\n",
    "result = model.invoke(\"what is Agentic Ai?\")"
   ]
  },
  {
   "cell_type": "code",
   "execution_count": 15,
   "id": "082057ce",
   "metadata": {},
   "outputs": [
    {
     "name": "stdout",
     "output_type": "stream",
     "text": [
      "Agentic AI refers to artificial intelligence systems that have the ability to perform tasks, make decisions, and understand and predict their environment autonomously. These systems are designed to act as agents with their own goals and the ability to take actions to achieve those goals. They can learn from their experiences and adapt their behavior over time. Agentic AI is often used in areas such as robotics, autonomous vehicles, and advanced machine learning systems.\n"
     ]
    }
   ],
   "source": [
    "print(result.content)"
   ]
  }
 ],
 "metadata": {
  "kernelspec": {
   "display_name": "Python 3",
   "language": "python",
   "name": "python3"
  },
  "language_info": {
   "codemirror_mode": {
    "name": "ipython",
    "version": 3
   },
   "file_extension": ".py",
   "mimetype": "text/x-python",
   "name": "python",
   "nbconvert_exporter": "python",
   "pygments_lexer": "ipython3",
   "version": "3.12.0"
  }
 },
 "nbformat": 4,
 "nbformat_minor": 5
}
